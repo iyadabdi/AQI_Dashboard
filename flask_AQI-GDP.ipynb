{
 "cells": [
  {
   "cell_type": "code",
   "execution_count": null,
   "id": "7feb93c3",
   "metadata": {},
   "outputs": [],
   "source": [
    "from flask import Flask, jsonify\n",
    "import psycopg2\n",
    "import pickle\n",
    "import os  # Import os module\n",
    "\n",
    "app = Flask(__name__)\n",
    "app.config['PROPAGATE_EXCEPTIONS'] = True\n",
    "\n",
    "# Define your database connection details\n",
    "db_config = {\n",
    "    'host': os.getenv('DB_HOST'),  # Get value from environment variable\n",
    "    'database': os.getenv('DB_NAME'),\n",
    "    'user': os.getenv('DB_USER'),\n",
    "    'password': os.getenv('DB_PASSWORD')\n",
    "}\n",
    "\n",
    "@app.route('/')\n",
    "def get_data():\n",
    "    with open('data.pkl', 'rb') as f:\n",
    "        data = pickle.load(f)\n",
    "    return jsonify(data)\n",
    "\n",
    "@app.route('/measurements')\n",
    "def get_measurements():\n",
    "    try:\n",
    "        conn = psycopg2.connect(**db_config)\n",
    "        cursor = conn.cursor()\n",
    "        cursor.execute(\"SELECT * FROM measurements\")\n",
    "        rows = cursor.fetchall()\n",
    "        measurements = []\n",
    "        for row in rows:\n",
    "            measurement = {\n",
    "                'id': row[0],\n",
    "                'aqi': row[1],\n",
    "                'timestamp': row[2],\n",
    "                'city_name': row[3],\n",
    "                'city_url': row[4],\n",
    "                'latitude': row[5],\n",
    "                'longitude': row[6],\n",
    "                'pm25': row[7]\n",
    "            }\n",
    "            measurements.append(measurement)\n",
    "        return jsonify(measurements)\n",
    "    except Exception as e:\n",
    "        return 'An error occurred while processing measurements.', 500\n",
    "    finally:\n",
    "        if conn is not None:\n",
    "            conn.close()\n",
    "\n",
    "if __name__ == '__main__':\n",
    "    app.run(port=5001)\n"
   ]
  }
 ],
 "metadata": {
  "kernelspec": {
   "display_name": "Python 3 (ipykernel)",
   "language": "python",
   "name": "python3"
  },
  "language_info": {
   "codemirror_mode": {
    "name": "ipython",
    "version": 3
   },
   "file_extension": ".py",
   "mimetype": "text/x-python",
   "name": "python",
   "nbconvert_exporter": "python",
   "pygments_lexer": "ipython3",
   "version": "3.9.16"
  }
 },
 "nbformat": 4,
 "nbformat_minor": 5
}
